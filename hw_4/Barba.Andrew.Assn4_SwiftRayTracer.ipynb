{
 "cells": [
  {
   "cell_type": "markdown",
   "metadata": {},
   "source": [
    "How-To Write a Ray Tracer in Swift\n",
    "=================="
   ]
  },
  {
   "cell_type": "markdown",
   "metadata": {},
   "source": [
    "An introduction to ray tracers and how to model the general tracing algorithm in Swift"
   ]
  },
  {
   "cell_type": "markdown",
   "metadata": {},
   "source": [
    "## Introduction"
   ]
  },
  {
   "cell_type": "markdown",
   "metadata": {},
   "source": [
    "In Computer Graphics there are really two crucial problems to solve… The first: filling a scene with informative, tangible objects or data. The second: taking that scene and bringing it to life, making it believable to the audience. Ray Tracing is a turnkey approach to the latter problem; it attempts to bring scenes to life by following light through each pixel of an image plane and mimic how that light would interact with objects in the plane. Done correctly, this algorithm can produce a very high level of realism in a scene. This realism of course comes at a cost: processing power. Because of the high level of processing and memory required to produce these scenes, ray tracing is not suitable for all types of projects. Specifically, ray tracing may be a poor choice for video games where scenes need to be rendered at 60fps in realtime. On the hand, if you have the option of pre-rendering a scene before viewing, ray tracing can bring a huge dimension of realism to the final product. Movies, television and digital photography are just a few examples."
   ]
  },
  {
   "cell_type": "markdown",
   "metadata": {},
   "source": [
    "In this paper, we will discuss the standard approach to a ray tracing algorithm in sudo-code. The fact is, most ray tracing programs follow a standard set of procedures and this paper assumes it is more important to understand this standard set rather than write a complex, difficult to read tracer. Additionally, there will be attached sample code written in Swift that follows the sudo-code outline. This will give an easy to read example of how a tracer operates in a language that is modern, fast and type safe."
   ]
  },
  {
   "cell_type": "markdown",
   "metadata": {},
   "source": [
    "## Method"
   ]
  },
  {
   "cell_type": "markdown",
   "metadata": {},
   "source": []
  },
  {
   "cell_type": "markdown",
   "metadata": {},
   "source": [
    "## Results"
   ]
  },
  {
   "cell_type": "markdown",
   "metadata": {},
   "source": [
    "Generally, in this section I would discuss what happens when the ray tracer is applied to different images, but in our case, that answer is nothing. The code produced in this paper was not a working ray tracer but rather a more approachable look at ray tracing via a highly documented Swift playground. Swift is high level language developed at Apple that is fast, type safe and easy to read and learn. Because of these properties I chose to implement the standard ray tracing procedures in Swift to better show graphics artists how ray tracing works and how an actual tracer might be written, although in a more complicated and obfuscated language."
   ]
  },
  {
   "cell_type": "markdown",
   "metadata": {},
   "source": [
    "Our Swift program consists of two main functions: `render` and `raytrace`. The point of render is to loop through each pixel in the provided image and and call `raytrace` on each pixel. `raytrace` returns a color and that color is plotted in place of the current pixel. The `render` function is relatively straightforward, the large bulk of the code is in the `raytrace` method which is a recursive function that can take a long time depending on the recursion depth, complexity of the scene and memory limitations."
   ]
  },
  {
   "cell_type": "markdown",
   "metadata": {},
   "source": []
  },
  {
   "cell_type": "markdown",
   "metadata": {},
   "source": [
    "## Discussion"
   ]
  },
  {
   "cell_type": "markdown",
   "metadata": {},
   "source": [
    "Although I did not produce a working ray tracer that could be dropped into a rendering program, I felt it was more important to produce high level code in a robust, readable language that follows the general algorithm for all ray tracers. Ray tracing is largely a standardized technique, where almost all programs are using the same basic algorithm. Because of this, I felt it was more valuable to provide documented code in a language that is easy to understand, type safe, and modern. This allows readers to have a much better understanding of how the algorithm works. "
   ]
  },
  {
   "cell_type": "markdown",
   "metadata": {},
   "source": [
    "## References"
   ]
  },
  {
   "cell_type": "markdown",
   "metadata": {},
   "source": [
    "#### Tripod.com\n",
    "[Raytracing Algorithm](http://fuzzyphoton.tripod.com/rtalgo.htm)"
   ]
  }
 ],
 "metadata": {
  "kernelspec": {
   "display_name": "Python 2",
   "language": "python",
   "name": "python2"
  },
  "language_info": {
   "codemirror_mode": {
    "name": "ipython",
    "version": 2
   },
   "file_extension": ".py",
   "mimetype": "text/x-python",
   "name": "python",
   "nbconvert_exporter": "python",
   "pygments_lexer": "ipython2",
   "version": "2.7.10"
  }
 },
 "nbformat": 4,
 "nbformat_minor": 0
}
