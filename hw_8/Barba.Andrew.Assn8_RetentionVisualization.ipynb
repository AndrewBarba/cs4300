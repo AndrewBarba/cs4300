{
 "cells": [
  {
   "cell_type": "markdown",
   "metadata": {},
   "source": [
    "How-To Create a Visual Retention Analysis\n",
    "======================"
   ]
  },
  {
   "cell_type": "markdown",
   "metadata": {},
   "source": [
    "An introduction to building and analyzing a user retention analysis with Node.js and MongoDB."
   ]
  },
  {
   "cell_type": "markdown",
   "metadata": {},
   "source": [
    "## Introduction"
   ]
  },
  {
   "cell_type": "markdown",
   "metadata": {},
   "source": [
    "Technology startups, and their evaluations, are at an all time high. Companies in seemingly every industry are emerging with groundbreaking new technologies that allow them to reach and change the way millions of users across the world go about their daily lives.  Uber, for example, is building a logistics system that can dispatch rides and deliveries to their customers in under 5 minutes, across the globe. Gone are the days of hailing a cab in the pouring rain, hoping one will pick you up. Now at the touch of a button you can request a ride, know exactly how much you are going to pay, and even split the bill with someone going in a similar direction. As impressive as the technology is today, it took a lot of research and development to get to this point. Perhaps one of the most important pieces of research in any growing startup is Retention: Are users coming back for more? If so, how often?"
   ]
  },
  {
   "cell_type": "markdown",
   "metadata": {},
   "source": [
    "Retention is one of the most important pieces of analysis a company can do to determine whether or not their product is successful and sticking with their users. If users aren’t coming back, then it does not matter how amazing the technology stack is, you do not have a viable company. Investors know this better than anyone, and it will be one of the number one things they look at when valuing a business."
   ]
  },
  {
   "cell_type": "markdown",
   "metadata": {},
   "source": [
    "In this How-To paper I will look at building a basic retention library in JavaScript that can analyze any two data points in a database. The caller of the library will be able to select a time period for retention (daily, weekly, monthly, etc.) and then provide two functions: one for determining the initial set of users for a given date, and one for determining a retained set of users for a given date. The library will then use those two function to generate a full retention analysis for a given time period. In the results section of the report I will generate retention reports using data from my company, Tablelist. Tablelist provides instant access to high end clubs and lounges in cities across the U.S. I will be analyzing the retention of users who buy different types of items in the iOS application and then return to buy something else."
   ]
  },
  {
   "cell_type": "markdown",
   "metadata": {},
   "source": [
    "## Method"
   ]
  },
  {
   "cell_type": "markdown",
   "metadata": {},
   "source": [
    "## Results"
   ]
  },
  {
   "cell_type": "markdown",
   "metadata": {},
   "source": [
    "## Discussion"
   ]
  },
  {
   "cell_type": "markdown",
   "metadata": {},
   "source": [
    "## References"
   ]
  },
  {
   "cell_type": "markdown",
   "metadata": {},
   "source": [
    "#### Intercom.io\n",
    "[Retention, Cohorts, and Visualisations](https://blog.intercom.io/retention-cohorts-and-visualisations/)"
   ]
  },
  {
   "cell_type": "markdown",
   "metadata": {},
   "source": [
    "#### Keen.io\n",
    "[How To Do a Retention Analysis](https://keen.io/blog/47823687779/how-to-do-a-retention-analysis/)"
   ]
  },
  {
   "cell_type": "markdown",
   "metadata": {},
   "source": [
    "#### Mixpanel\n",
    "[Retention](https://mixpanel.com/retention/)"
   ]
  },
  {
   "cell_type": "code",
   "execution_count": null,
   "metadata": {
    "collapsed": true
   },
   "outputs": [],
   "source": []
  }
 ],
 "metadata": {
  "kernelspec": {
   "display_name": "Python 2",
   "language": "python",
   "name": "python2"
  },
  "language_info": {
   "codemirror_mode": {
    "name": "ipython",
    "version": 2
   },
   "file_extension": ".py",
   "mimetype": "text/x-python",
   "name": "python",
   "nbconvert_exporter": "python",
   "pygments_lexer": "ipython2",
   "version": "2.7.10"
  }
 },
 "nbformat": 4,
 "nbformat_minor": 0
}
